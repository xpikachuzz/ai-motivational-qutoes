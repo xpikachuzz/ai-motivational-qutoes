{
 "cells": [
  {
   "cell_type": "code",
   "execution_count": 2,
   "id": "30f00339-5901-48ce-b8dd-8af4d363a7aa",
   "metadata": {},
   "outputs": [
    {
     "name": "stdout",
     "output_type": "stream",
     "text": [
      "9\n"
     ]
    }
   ],
   "source": [
    "print(9)"
   ]
  },
  {
   "cell_type": "code",
   "execution_count": 3,
   "id": "39501530-b328-4925-af6c-78ef5377e4a8",
   "metadata": {},
   "outputs": [],
   "source": [
    "import os\n",
    "import faiss\n",
    "import numpy as np\n",
    "from sentence_transformers import SentenceTransformer\n"
   ]
  },
  {
   "cell_type": "code",
   "execution_count": 4,
   "id": "590ac4ad-75d9-4de8-8753-b6c814540a5a",
   "metadata": {},
   "outputs": [
    {
     "name": "stdout",
     "output_type": "stream",
     "text": [
      "Indexed 1786 quotes.\n"
     ]
    }
   ],
   "source": [
    "# Load embedding model (you can choose another model)\n",
    "model = SentenceTransformer('all-MiniLM-L6-v2')\n",
    "\n",
    "# Collect all quotes\n",
    "quotes = []\n",
    "file_dir = './processed/'\n",
    "\n",
    "for filename in os.listdir(file_dir):\n",
    "    if filename.endswith('.txt'):\n",
    "        with open(os.path.join(file_dir, filename), 'r', encoding='utf-8') as file:\n",
    "            for line in file:\n",
    "                line = line.strip()\n",
    "                if ':' in line:\n",
    "                    author, quote = line.split(':', 1)\n",
    "                    quotes.append(quote.strip())\n",
    "\n",
    "# Convert quotes to embeddings\n",
    "embeddings = model.encode(quotes, convert_to_numpy=True)\n",
    "\n",
    "# Build FAISS index\n",
    "dimension = embeddings.shape[1]\n",
    "index = faiss.IndexFlatL2(dimension)\n",
    "index.add(embeddings)\n",
    "\n",
    "# Optional: save the index\n",
    "faiss.write_index(index, 'quotes_faiss.index')\n",
    "\n",
    "# Optional: save quotes for lookup later\n",
    "with open('quotes_lookup.txt', 'w', encoding='utf-8') as f:\n",
    "    for quote in quotes:\n",
    "        f.write(quote + '\\n')\n",
    "\n",
    "print(f\"Indexed {len(quotes)} quotes.\")"
   ]
  },
  {
   "cell_type": "code",
   "execution_count": 6,
   "id": "3ebba722-d94d-4b32-bc71-86aa3cb72ffe",
   "metadata": {},
   "outputs": [
    {
     "name": "stdout",
     "output_type": "stream",
     "text": [
      "We lost because we told ourselves we lost.\n",
      "Loss is nothing else but change,and change is Natures delight.\n",
      "Fear not for the future, weep not for the past.\n",
      "Accept challenges, so that you may feel the exhilaration of victory.\n",
      "When you lose, don't lose the lesson.\n"
     ]
    }
   ],
   "source": [
    "# Load index\n",
    "index = faiss.read_index('quotes_faiss.index')\n",
    "\n",
    "# Load quotes\n",
    "with open('quotes_lookup.txt', 'r', encoding='utf-8') as f:\n",
    "    quotes = [line.strip() for line in f.readlines()]\n",
    "\n",
    "# Query\n",
    "query = \"I'm feeling lost.\"\n",
    "query_vector = model.encode([query], convert_to_numpy=True)\n",
    "\n",
    "# Search top 5\n",
    "D, I = index.search(query_vector, 5)\n",
    "\n",
    "# Display results\n",
    "for idx in I[0]:\n",
    "    print(quotes[idx])\n",
    "\n",
    "\n"
   ]
  },
  {
   "cell_type": "code",
   "execution_count": null,
   "id": "ed48cbbc-f043-4d90-a7ff-9ae13d310cf9",
   "metadata": {},
   "outputs": [],
   "source": []
  }
 ],
 "metadata": {
  "kernelspec": {
   "display_name": "Python 3 (ipykernel)",
   "language": "python",
   "name": "python3"
  },
  "language_info": {
   "codemirror_mode": {
    "name": "ipython",
    "version": 3
   },
   "file_extension": ".py",
   "mimetype": "text/x-python",
   "name": "python",
   "nbconvert_exporter": "python",
   "pygments_lexer": "ipython3",
   "version": "3.12.3"
  }
 },
 "nbformat": 4,
 "nbformat_minor": 5
}
